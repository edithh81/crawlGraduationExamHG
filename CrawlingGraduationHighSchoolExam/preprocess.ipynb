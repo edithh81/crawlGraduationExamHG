{
 "cells": [
  {
   "cell_type": "code",
   "execution_count": 2,
   "metadata": {},
   "outputs": [],
   "source": [
    "import pandas as pd\n",
    "import numpy as np\n",
    "import matplotlib.pyplot as plt\n",
    "import seaborn as sns\n",
    "import os"
   ]
  },
  {
   "cell_type": "code",
   "execution_count": 4,
   "metadata": {},
   "outputs": [],
   "source": [
    "folder_path = './data'\n",
    "\n",
    "def identify_failed_students(df):\n",
    "    condition_khtn = (df[['Toan', 'NguVan', 'NgoaiNgu', 'VatLi', 'HoaHoc', 'SinhHoc']] < 1).any(axis=1) & df['KHTN'].notna()\n",
    "    condition_khxh = (df[['Toan', 'NguVan', 'NgoaiNgu','DiaLi', 'LichSu', 'GDCD']] < 1).any(axis=1) & df['KHXH'].notna()\n",
    "    df['Fail'] = [\"True\" if fail else \"\" for fail in (condition_khtn | condition_khxh)]\n",
    "    return df\n",
    "\n",
    "    \n",
    "def preprocess(folder_path, year):\n",
    "    file_path = f'{folder_path}/raw{year}.csv'\n",
    "    df = pd.read_csv(file_path)\n",
    "    df = identify_failed_students(df)\n",
    "    clean_folder = f'./clean_data'\n",
    "    \n",
    "    if not os.path.exists(clean_folder):\n",
    "        os.makedirs(clean_folder)\n",
    "    df.to_csv(f'{clean_folder}/clean{year}.csv', index=False)\n",
    "\n",
    "for year in range(2022, 2025):\n",
    "    preprocess(folder_path, year)\n",
    "    \n",
    "    "
   ]
  }
 ],
 "metadata": {
  "kernelspec": {
   "display_name": "base",
   "language": "python",
   "name": "python3"
  },
  "language_info": {
   "codemirror_mode": {
    "name": "ipython",
    "version": 3
   },
   "file_extension": ".py",
   "mimetype": "text/x-python",
   "name": "python",
   "nbconvert_exporter": "python",
   "pygments_lexer": "ipython3",
   "version": "3.12.7"
  }
 },
 "nbformat": 4,
 "nbformat_minor": 2
}
